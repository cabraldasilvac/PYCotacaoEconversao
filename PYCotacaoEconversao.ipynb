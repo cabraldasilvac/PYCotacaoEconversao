{
 "cells": [
  {
   "cell_type": "markdown",
   "metadata": {},
   "source": [
    "# Automação Web e Busca de Informações com Python\n",
    "\n",
    "### Desafio: \n",
    "\n",
    "#### Buscar a cotação de moedas e fazer a Conversão delas.\n",
    "\n",
    "A pesquisa será feita no site (\"https://www.melhorcambio.com/ouro-hoje\")\n",
    "E no site do Google (\"https://www.google.com/\")\n",
    "\n",
    "- Dólar\n",
    "- Euro\n",
    "- Ouro\n",
    "\n",
    "Precisamos pegar na internet, de forma automática, a cotação desses 3 itens e fazer a conversão para a moeda REAL.\n",
    "\n",
    "\n",
    "Para isso, vamos criar uma automação web:\n",
    "\n",
    "- Neste projeto usaremos o selenium\n",
    "- Importante: baixar o webdriver"
   ]
  },
  {
   "cell_type": "code",
   "execution_count": null,
   "metadata": {
    "scrolled": true
   },
   "outputs": [],
   "source": [
    "!pip install selenium"
   ]
  },
  {
   "cell_type": "code",
   "execution_count": 36,
   "metadata": {
    "scrolled": true
   },
   "outputs": [
    {
     "name": "stdout",
     "output_type": "stream",
     "text": [
      "Cotação do Dólar =    5.09\n",
      "Cotação do Euro =     5.31\n",
      "Cotação do Ouro =   297.08\n"
     ]
    }
   ],
   "source": [
    "# Lista de IMPORTAÇÃO quando for usar o SELENIUM\n",
    "    # para importar do WebDriver - chromedriver -> Chrome\n",
    "    # para importar do WebDriver - geckodriver -> Firefox\n",
    "\n",
    "# Criar o navegador\n",
    "from selenium import webdriver \n",
    "\n",
    "# Localizar elementos( os itens de um site)\n",
    "from selenium.webdriver.common.by import By \n",
    "\n",
    " # Permite clicar tecla no teclado\n",
    "from selenium.webdriver.common.keys import Keys\n",
    "\n",
    "navegador = webdriver.Chrome()\n",
    "\n",
    "# Passo 1 - Entrar no google\n",
    "navegador.get(\"https://www.google.com/\")\n",
    "\n",
    "# Passo 2 - Pesquisar a cotação do dólar\n",
    "# Selecionando o Elemento do site\n",
    "\n",
    "navegador.find_element(By.XPATH, \n",
    "                       '/html/body/div[1]/div[3]/form/div[1]/div[1]/div[1]/div/div[2]/input').send_keys(\"cotação dólar\")\n",
    "\n",
    "navegador.find_element(By.XPATH, \n",
    "                       '/html/body/div[1]/div[3]/form/div[1]/div[1]/div[3]/center/input[1]').send_keys(Keys.ENTER)\n",
    "\n",
    "# Passo 3 - Pegar a cotação do dólar\n",
    "cotacao_dolar = navegador.find_element(By.XPATH, \n",
    "                        '//*[@id=\"knowledge-currency__updatable-data-column\"]/div[1]/div[2]/span[1]').get_attribute('data-value')\n",
    "\n",
    "# print(\"Cotação do Dólar\", cotacao_dolar)  -> SEM FORMATAÇÃO\n",
    "\n",
    "print('Cotação do Dólar =    {:.4s}'.format(cotacao_dolar))     # -> COM FORMATAÇÃO\n",
    "\n",
    "# Passo 4 - Pesquisar a cotação do Euro \n",
    "# Selecionando o Elemento do site\n",
    "navegador.get(\"https://www.google.com/\")\n",
    "\n",
    "navegador.find_element(By.XPATH, \n",
    "                       '/html/body/div[1]/div[3]/form/div[1]/div[1]/div[1]/div/div[2]/input').send_keys(\"cotação euro\")\n",
    "\n",
    "navegador.find_element(By.XPATH, \n",
    "                       '/html/body/div[1]/div[3]/form/div[1]/div[1]/div[3]/center/input[1]').send_keys(Keys.ENTER)\n",
    "\n",
    "# Passo 5 -  Pegar a cotação do Euro\n",
    "cotacao_euro = navegador.find_element(By.XPATH, \n",
    "                        '//*[@id=\"knowledge-currency__updatable-data-column\"]/div[1]/div[2]/span[1]').get_attribute('data-value')\n",
    "\n",
    "# print(\"Cotação do Euro \", cotacao_euro) -> SEM FORMATAÇÃO\n",
    "print('Cotação do Euro =     {:.4s}'.format(cotacao_euro))     # -> COM FORMATAÇÃO\n",
    "\n",
    "\n",
    "# Passo 6 Pesquisar a cotação do Ouro\n",
    "navegador.get(\"https://www.melhorcambio.com/ouro-hoje\")\n",
    "\n",
    "# Passo 7  - Pegar a cotação do ouro\n",
    "cotacao_ouro = navegador.find_element(By.XPATH, '//*[@id=\"comercial\"]').get_attribute('value')\n",
    "\n",
    "# Formatação de números \n",
    "cotacao_ouro = cotacao_ouro.replace(\",\", \".\")\n",
    "print(\"Cotação do Ouro =  \", cotacao_ouro)\n"
   ]
  },
  {
   "cell_type": "code",
   "execution_count": null,
   "metadata": {},
   "outputs": [],
   "source": [
    "# Enerra o navegador de internet\n",
    "navegador.quit()"
   ]
  },
  {
   "cell_type": "code",
   "execution_count": null,
   "metadata": {},
   "outputs": [],
   "source": []
  }
 ],
 "metadata": {
  "kernelspec": {
   "display_name": "Python 3 (ipykernel)",
   "language": "python",
   "name": "python3"
  },
  "language_info": {
   "codemirror_mode": {
    "name": "ipython",
    "version": 3
   },
   "file_extension": ".py",
   "mimetype": "text/x-python",
   "name": "python",
   "nbconvert_exporter": "python",
   "pygments_lexer": "ipython3",
   "version": "3.9.7"
  }
 },
 "nbformat": 4,
 "nbformat_minor": 4
}
